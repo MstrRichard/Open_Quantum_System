{
 "cells": [
  {
   "cell_type": "markdown",
   "metadata": {},
   "source": [
    "# Goal\n",
    "We want $$0 = \\dot{\\hat{\\rho}} = \\mathcal{L}\\hat{\\rho} = -i\\left[\\hat H, \\hat \\rho\\right]+\\sum_j \\frac{\\gamma_j}{2}\\left[2\\hat L_j\\hat\\rho\\hat L_j^\\dagger - \\left\\{\\hat L_j^\\dagger\\hat L_j, \\hat\\rho\\right\\}\\right]$$"
   ]
  },
  {
   "cell_type": "code",
   "execution_count": 1,
   "metadata": {},
   "outputs": [],
   "source": [
    "import os\n",
    "os.environ[\"OMP_NUM_THREADS\"] = '16'\n",
    "import numpy as np\n",
    "from scipy import optimize\n",
    "import matplotlib.pyplot as plt"
   ]
  },
  {
   "cell_type": "markdown",
   "metadata": {},
   "source": [
    "Pauli Matrices"
   ]
  },
  {
   "cell_type": "code",
   "execution_count": 2,
   "metadata": {},
   "outputs": [],
   "source": [
    "sigma_x = np.array([[0, 1], [1, 0]], dtype = 'complex128')\n",
    "sigma_y = np.array([[0, -1j], [1j, 0]], dtype = 'complex128')\n",
    "sigma_z = np.array([[1, 0], [0, -1]], dtype = 'complex128')\n",
    "identity = np.array([[1, 0], [0, 1]], dtype = 'complex128')"
   ]
  },
  {
   "cell_type": "markdown",
   "metadata": {},
   "source": [
    "Some parameters"
   ]
  },
  {
   "cell_type": "code",
   "execution_count": 3,
   "metadata": {},
   "outputs": [],
   "source": [
    "num_latt = 2\n",
    "coup_stren = 2\n"
   ]
  },
  {
   "cell_type": "markdown",
   "metadata": {},
   "source": [
    "$$ H = \\frac{V}{4}\\sum_{\\langle j, l\\rangle}\\hat\\sigma_j^z\\sigma_l^z+\\frac{g}{2}\\sum_j\\hat\\sigma_j^x$$\n",
    "where $\\hat\\sigma_j^\\alpha$ means the Pauli matrix acting on the $j$-th site.\n",
    "$$ \\hat L_j^{(z)} = \\hat\\sigma_j^- = \\frac{1}{2}\\left(\\hat\\sigma_j^x-i\\hat\\sigma_j^y\\right)$$"
   ]
  },
  {
   "cell_type": "code",
   "execution_count": 4,
   "metadata": {},
   "outputs": [],
   "source": [
    "# make tensor product of two matrices (copied over from povm code, \n",
    "# but I didn't reverse the order because later I shall use this function\n",
    "# in a different order.)\n",
    "def tensorproduct(matrix1, matrix2):\n",
    "    dim = matrix1.shape[0] * matrix2.shape[0]\n",
    "    # didn't reverse the order here\n",
    "    return np.tensordot(matrix1, matrix2, axes = 0).swapaxes(1, 2).reshape(dim, dim)"
   ]
  },
  {
   "cell_type": "code",
   "execution_count": 5,
   "metadata": {},
   "outputs": [],
   "source": [
    "# generate hamiltonion\n",
    "def gen_H(num, V, g):\n",
    "    hamiltonion = np.zeros((2**num, 2**num), dtype = 'complex128')\n",
    "    for i in range(num):\n",
    "        term1 = np.ones((1, 1), dtype = 'complex128')\n",
    "        term2 = np.ones((1, 1), dtype = 'complex128')\n",
    "        for j in range(num): \n",
    "            if j == i or j == i + 1 or (i == num - 1 and j == 0): # wallpaper(cyclic) bondary condition\n",
    "                term1 = tensorproduct(term1, sigma_z) # order here not the same as in POVM\n",
    "                #print(i, j)\n",
    "                #print(term1)\n",
    "            else:\n",
    "                term1 = tensorproduct(term1, identity) # order here not the same as in POVM\n",
    "            if j == i:\n",
    "                term2 = tensorproduct(term2, sigma_x) # order here not the same as in POVM\n",
    "            else:\n",
    "                term2 = tensorproduct(term2, identity) # order here not the same as in POVM\n",
    "        term1 = term1 * V / 4\n",
    "        #print(term1)\n",
    "        term2 = term2 * g / 2\n",
    "        hamiltonion += term1 + term2\n",
    "    return hamiltonion\n",
    "                "
   ]
  },
  {
   "cell_type": "code",
   "execution_count": 6,
   "metadata": {},
   "outputs": [],
   "source": [
    "# generate L_j\n",
    "def gen_L_j(num, i):\n",
    "    term = np.ones((1, 1), dtype = 'complex128')\n",
    "    for j in range(num):\n",
    "        if j == i:\n",
    "            term = tensorproduct(term, (sigma_x - 1j * sigma_y) / 2)\n",
    "        else:\n",
    "            term = tensorproduct(term, identity)\n",
    "    return term\n",
    "            "
   ]
  },
  {
   "cell_type": "code",
   "execution_count": 7,
   "metadata": {},
   "outputs": [],
   "source": [
    "# remember to test the functions above"
   ]
  },
  {
   "cell_type": "code",
   "execution_count": 8,
   "metadata": {},
   "outputs": [],
   "source": [
    "def curly_L(rho, V, g): # input should be a matrix of 2**num_latt * 2**num_latt and I ignored the gamma and assume it's the unit\n",
    "    h = gen_H(num_latt, V, g)\n",
    "    rho = rho.reshape((2**num_latt, 2**num_latt))\n",
    "    #print(rho.shape, h.shape)\n",
    "    #print(rho.dtype, h.dtype)\n",
    "    term1 = -1j * (h @ rho - rho @ h)\n",
    "    term2 = np.zeros((2**num_latt, 2**num_latt), dtype = 'complex128')\n",
    "    for i in range(num_latt):\n",
    "        Li = np.matrix(gen_L_j(num_latt, i))\n",
    "        term2 += (2 * Li@rho@Li.H - Li.H@Li@ rho - rho@Li.H@Li) / 2\n",
    "    return (term1 + term2)\n",
    "    "
   ]
  },
  {
   "cell_type": "code",
   "execution_count": 9,
   "metadata": {},
   "outputs": [],
   "source": [
    "# get the input and output into 1d vectors\n",
    "def wrapped_L(flatten_rho, V, g):\n",
    "    rho = flatten_rho.reshape((2**num_latt, 2**num_latt))\n",
    "    rho_dot = curly_L(rho, V, g)\n",
    "    flatten_rho_dot = rho_dot.flatten()\n",
    "    return flatten_rho_dot"
   ]
  },
  {
   "cell_type": "code",
   "execution_count": 10,
   "metadata": {},
   "outputs": [
    {
     "data": {
      "text/plain": [
       "array([-1.32184814-1.50525676j,  0.0823394 -1.39393256j,\n",
       "       -0.50708483+0.13452467j, -1.04554336-0.46139054j,\n",
       "       -1.01946186-0.48537447j,  0.27286231-0.76898433j,\n",
       "       -0.33144434-0.32087552j, -0.12799089-0.23262505j,\n",
       "       -2.00580816+0.05024294j, -0.78019859-0.17312803j,\n",
       "       -0.08644084+0.70568972j,  0.19921527+1.48716991j,\n",
       "        0.22295439-0.55373237j,  0.64817743-0.83880196j,\n",
       "        0.51770034-0.07922749j,  1.13542666+1.56855137j])"
      ]
     },
     "execution_count": 10,
     "metadata": {},
     "output_type": "execute_result"
    }
   ],
   "source": [
    "wrapped_L(np.random.random(4**num_latt) + 1j * np.random.random(4**num_latt),1,1)"
   ]
  },
  {
   "cell_type": "code",
   "execution_count": 11,
   "metadata": {},
   "outputs": [
    {
     "name": "stdout",
     "output_type": "stream",
     "text": [
      "[-2.06773155-0.07144604j  1.27437529-3.28105375j -1.27327241-3.75862116j\n",
      " -1.72904679-0.70272574j -2.44873363-0.13988657j  3.90908375+0.83877044j\n",
      "  1.85018458-1.16770892j  1.35113683+0.94801368j -3.12521259+0.39191592j\n",
      "  0.56294204-0.01716464j  0.27689791-1.11199397j -2.10221279+2.9089213j\n",
      " -2.7029308 -0.50701162j  4.00835038-0.43540479j  4.50522977-0.69356251j\n",
      " -2.11825011+0.34466957j]\n",
      "[-2.06773155-0.07144604j  1.27437529-3.28105375j -1.27327241-3.75862116j\n",
      " -1.72904679-0.70272574j -2.44873363-0.13988657j  3.90908375+0.83877044j\n",
      "  1.85018458-1.16770892j  1.35113683+0.94801368j -3.12521259+0.39191592j\n",
      "  0.56294204-0.01716464j  0.27689791-1.11199397j -2.10221279+2.9089213j\n",
      " -2.7029308 -0.50701162j  4.00835038-0.43540479j  4.50522977-0.69356251j\n",
      " -2.11825011+0.34466957j]\n",
      "[ 4.44089210e-16-2.22044605e-16j -4.44089210e-16+4.44089210e-16j\n",
      "  4.44089210e-16+8.88178420e-16j  7.77156117e-16-5.55111512e-16j\n",
      "  8.88178420e-16+1.11022302e-16j -8.88178420e-16+0.00000000e+00j\n",
      " -6.66133815e-16+5.55111512e-16j  2.22044605e-16+1.11022302e-16j\n",
      "  4.44089210e-16+0.00000000e+00j -8.88178420e-16-1.11022302e-16j\n",
      "  0.00000000e+00+2.22044605e-16j -4.44089210e-16-2.22044605e-16j\n",
      " -2.22044605e-16+0.00000000e+00j  0.00000000e+00+0.00000000e+00j\n",
      "  4.44089210e-16+1.11022302e-16j  8.88178420e-16+0.00000000e+00j]\n"
     ]
    }
   ],
   "source": [
    "# see if the function is linear\n",
    "input1 = np.random.random(4**num_latt) + 1j * np.random.random(4**num_latt)\n",
    "input2 = np.random.random(4**num_latt) + 1j * np.random.random(4**num_latt)\n",
    "output1 = wrapped_L(input1, 2, 3)\n",
    "output2 = wrapped_L(input2, 2, 3)\n",
    "outputt = wrapped_L(input1+input2, 2, 3)\n",
    "print(output1 + output2)\n",
    "print(outputt)\n",
    "print(outputt - output1 - output2)"
   ]
  },
  {
   "cell_type": "code",
   "execution_count": 12,
   "metadata": {},
   "outputs": [],
   "source": [
    "# we only need the real part of the output\n",
    "def real_L(flatten_rho, V, g):\n",
    "    return wrapped_L(flatten_rho, V, g).real"
   ]
  },
  {
   "cell_type": "code",
   "execution_count": 81,
   "metadata": {},
   "outputs": [],
   "source": [
    "def gen_jacobian(V, g):\n",
    "    dim = 4**num_latt\n",
    "    input_real = np.random.random(dim)\n",
    "    input_imaginary = np.random.random(dim)\n",
    "    output_old = real_L(input_real + 1j * input_imaginary, V, g)\n",
    "    \n",
    "    matrix_real = np.zeros((dim, dim))\n",
    "    matrix_imaginary = np.zeros((dim, dim))\n",
    "    \n",
    "    step_size = 0.5\n",
    "    \n",
    "    # now calculate the real matrix using 2 point finite difference\n",
    "    for j in range(dim):\n",
    "        input_real[j] += step_size\n",
    "        output_new = real_L(input_real + 1j * input_imaginary, V, g)\n",
    "        #print(output_new, output_old)\n",
    "        for i in range(dim):\n",
    "            matrix_real[i, j] = (output_new[i] - output_old[i]) / step_size\n",
    "            #print(matrix_real[i, j])\n",
    "        input_real[j] -= step_size\n",
    "    \n",
    "    # now calculate the inmaginary matrix\n",
    "    for j in range(dim):\n",
    "        #print(input_imaginary)\n",
    "        input_imaginary[j] += step_size\n",
    "        #print(input_imaginary)\n",
    "        output_new = real_L(input_real + 1j * input_imaginary, V, g)\n",
    "        #print(output_new, output_old)\n",
    "        for i in range(dim):\n",
    "            #print(output_new[i] - output_old[i])\n",
    "            matrix_imaginary[i, j] = -(output_new[i] - output_old[i]) / step_size # notice the negative sign\n",
    "        input_imaginary[j] -= step_size\n",
    "        #print(input_imaginary)\n",
    "    return matrix_real + 1j * matrix_imaginary\n",
    "    "
   ]
  },
  {
   "cell_type": "code",
   "execution_count": 82,
   "metadata": {},
   "outputs": [
    {
     "data": {
      "text/plain": [
       "array([[-2.00000000e+00+0.00000000e+00j,  0.00000000e+00+2.00000000e+00j,\n",
       "         0.00000000e+00+2.00000000e+00j,  0.00000000e+00+0.00000000e+00j,\n",
       "         0.00000000e+00-2.00000000e+00j,  0.00000000e+00+0.00000000e+00j,\n",
       "         0.00000000e+00+0.00000000e+00j,  0.00000000e+00+0.00000000e+00j,\n",
       "         0.00000000e+00-2.00000000e+00j,  0.00000000e+00+0.00000000e+00j,\n",
       "         0.00000000e+00+0.00000000e+00j,  0.00000000e+00+0.00000000e+00j,\n",
       "         0.00000000e+00+0.00000000e+00j,  0.00000000e+00+0.00000000e+00j,\n",
       "         0.00000000e+00+0.00000000e+00j,  0.00000000e+00+0.00000000e+00j],\n",
       "       [ 0.00000000e+00+2.00000000e+00j, -1.50000000e+00-2.00000000e+00j,\n",
       "         0.00000000e+00+0.00000000e+00j,  0.00000000e+00+2.00000000e+00j,\n",
       "         0.00000000e+00+0.00000000e+00j,  0.00000000e+00-2.00000000e+00j,\n",
       "         0.00000000e+00+0.00000000e+00j,  0.00000000e+00+0.00000000e+00j,\n",
       "         0.00000000e+00+0.00000000e+00j,  0.00000000e+00-2.00000000e+00j,\n",
       "         0.00000000e+00+0.00000000e+00j,  0.00000000e+00+0.00000000e+00j,\n",
       "         0.00000000e+00+0.00000000e+00j,  0.00000000e+00+0.00000000e+00j,\n",
       "         0.00000000e+00+0.00000000e+00j,  0.00000000e+00+0.00000000e+00j],\n",
       "       [ 0.00000000e+00+2.00000000e+00j,  0.00000000e+00+4.44089210e-16j,\n",
       "        -1.50000000e+00-2.00000000e+00j, -4.44089210e-16+2.00000000e+00j,\n",
       "        -4.44089210e-16+4.44089210e-16j, -4.44089210e-16+4.44089210e-16j,\n",
       "        -4.44089210e-16-2.00000000e+00j, -4.44089210e-16-4.44089210e-16j,\n",
       "        -4.44089210e-16-4.44089210e-16j, -4.44089210e-16-4.44089210e-16j,\n",
       "        -4.44089210e-16-2.00000000e+00j, -4.44089210e-16-4.44089210e-16j,\n",
       "        -4.44089210e-16-4.44089210e-16j, -4.44089210e-16-4.44089210e-16j,\n",
       "        -4.44089210e-16-4.44089210e-16j, -4.44089210e-16-4.44089210e-16j],\n",
       "       [ 0.00000000e+00+0.00000000e+00j,  0.00000000e+00+2.00000000e+00j,\n",
       "         0.00000000e+00+2.00000000e+00j, -1.00000000e+00+8.88178420e-16j,\n",
       "         0.00000000e+00+8.88178420e-16j,  0.00000000e+00+8.88178420e-16j,\n",
       "         0.00000000e+00+8.88178420e-16j,  0.00000000e+00-2.00000000e+00j,\n",
       "         0.00000000e+00+8.88178420e-16j,  0.00000000e+00+8.88178420e-16j,\n",
       "         0.00000000e+00+8.88178420e-16j,  0.00000000e+00-2.00000000e+00j,\n",
       "         0.00000000e+00+8.88178420e-16j,  0.00000000e+00+8.88178420e-16j,\n",
       "         0.00000000e+00+8.88178420e-16j,  0.00000000e+00+8.88178420e-16j],\n",
       "       [ 0.00000000e+00-2.00000000e+00j,  0.00000000e+00+0.00000000e+00j,\n",
       "         0.00000000e+00+0.00000000e+00j,  0.00000000e+00+0.00000000e+00j,\n",
       "        -1.50000000e+00+2.00000000e+00j,  0.00000000e+00+2.00000000e+00j,\n",
       "         0.00000000e+00+2.00000000e+00j,  0.00000000e+00+0.00000000e+00j,\n",
       "         0.00000000e+00+0.00000000e+00j,  0.00000000e+00+0.00000000e+00j,\n",
       "         0.00000000e+00+0.00000000e+00j,  0.00000000e+00+0.00000000e+00j,\n",
       "         0.00000000e+00-2.00000000e+00j,  0.00000000e+00+0.00000000e+00j,\n",
       "         0.00000000e+00+0.00000000e+00j,  0.00000000e+00+0.00000000e+00j],\n",
       "       [ 1.00000000e+00+4.44089210e-16j,  0.00000000e+00-2.00000000e+00j,\n",
       "         0.00000000e+00-4.44089210e-16j,  0.00000000e+00-4.44089210e-16j,\n",
       "         0.00000000e+00+2.00000000e+00j, -1.00000000e+00-4.44089210e-16j,\n",
       "        -4.44089210e-16-4.44089210e-16j, -4.44089210e-16+2.00000000e+00j,\n",
       "        -4.44089210e-16-4.44089210e-16j, -4.44089210e-16-4.44089210e-16j,\n",
       "        -4.44089210e-16-4.44089210e-16j, -4.44089210e-16-4.44089210e-16j,\n",
       "        -4.44089210e-16-4.44089210e-16j, -4.44089210e-16-2.00000000e+00j,\n",
       "        -4.44089210e-16-4.44089210e-16j, -4.44089210e-16-4.44089210e-16j],\n",
       "       [ 0.00000000e+00+0.00000000e+00j,  0.00000000e+00+0.00000000e+00j,\n",
       "         0.00000000e+00-2.00000000e+00j,  0.00000000e+00+0.00000000e+00j,\n",
       "         0.00000000e+00+2.00000000e+00j,  0.00000000e+00+0.00000000e+00j,\n",
       "        -1.00000000e+00+2.22044605e-16j,  0.00000000e+00+2.00000000e+00j,\n",
       "         0.00000000e+00+2.22044605e-16j,  0.00000000e+00+2.22044605e-16j,\n",
       "         0.00000000e+00+2.22044605e-16j,  0.00000000e+00+2.22044605e-16j,\n",
       "         0.00000000e+00+2.22044605e-16j,  0.00000000e+00+2.22044605e-16j,\n",
       "         0.00000000e+00-2.00000000e+00j,  0.00000000e+00+2.22044605e-16j],\n",
       "       [ 0.00000000e+00+0.00000000e+00j,  0.00000000e+00+0.00000000e+00j,\n",
       "         1.00000000e+00+0.00000000e+00j,  0.00000000e+00-2.00000000e+00j,\n",
       "         0.00000000e+00+0.00000000e+00j,  0.00000000e+00+2.00000000e+00j,\n",
       "         0.00000000e+00+2.00000000e+00j, -5.00000000e-01+2.00000000e+00j,\n",
       "         0.00000000e+00+0.00000000e+00j,  0.00000000e+00+0.00000000e+00j,\n",
       "         0.00000000e+00+0.00000000e+00j,  0.00000000e+00+0.00000000e+00j,\n",
       "         0.00000000e+00+0.00000000e+00j,  0.00000000e+00+0.00000000e+00j,\n",
       "         0.00000000e+00+0.00000000e+00j,  0.00000000e+00-2.00000000e+00j],\n",
       "       [ 0.00000000e+00-2.00000000e+00j,  0.00000000e+00-4.44089210e-16j,\n",
       "         0.00000000e+00-4.44089210e-16j,  0.00000000e+00-4.44089210e-16j,\n",
       "         0.00000000e+00-4.44089210e-16j,  0.00000000e+00-4.44089210e-16j,\n",
       "         0.00000000e+00-4.44089210e-16j,  0.00000000e+00-4.44089210e-16j,\n",
       "        -1.50000000e+00+2.00000000e+00j,  4.44089210e-16+2.00000000e+00j,\n",
       "         4.44089210e-16+2.00000000e+00j,  4.44089210e-16-4.44089210e-16j,\n",
       "         4.44089210e-16-2.00000000e+00j,  4.44089210e-16-4.44089210e-16j,\n",
       "         4.44089210e-16-4.44089210e-16j,  4.44089210e-16-4.44089210e-16j],\n",
       "       [ 0.00000000e+00+0.00000000e+00j,  0.00000000e+00-2.00000000e+00j,\n",
       "         0.00000000e+00+0.00000000e+00j,  0.00000000e+00+0.00000000e+00j,\n",
       "         0.00000000e+00+0.00000000e+00j,  0.00000000e+00+0.00000000e+00j,\n",
       "         0.00000000e+00+0.00000000e+00j,  0.00000000e+00+0.00000000e+00j,\n",
       "         0.00000000e+00+2.00000000e+00j, -1.00000000e+00+0.00000000e+00j,\n",
       "         0.00000000e+00+0.00000000e+00j,  0.00000000e+00+2.00000000e+00j,\n",
       "         0.00000000e+00+0.00000000e+00j,  0.00000000e+00-2.00000000e+00j,\n",
       "         0.00000000e+00+0.00000000e+00j,  0.00000000e+00+0.00000000e+00j],\n",
       "       [ 1.00000000e+00-2.22044605e-16j,  0.00000000e+00-2.22044605e-16j,\n",
       "         0.00000000e+00-2.00000000e+00j,  0.00000000e+00-2.22044605e-16j,\n",
       "         0.00000000e+00-2.22044605e-16j,  0.00000000e+00-2.22044605e-16j,\n",
       "         0.00000000e+00-2.22044605e-16j,  0.00000000e+00-2.22044605e-16j,\n",
       "         0.00000000e+00+2.00000000e+00j,  0.00000000e+00-2.22044605e-16j,\n",
       "        -1.00000000e+00-2.22044605e-16j,  2.22044605e-16+2.00000000e+00j,\n",
       "         2.22044605e-16-2.22044605e-16j,  2.22044605e-16-2.22044605e-16j,\n",
       "         2.22044605e-16-2.00000000e+00j,  2.22044605e-16-2.22044605e-16j],\n",
       "       [ 0.00000000e+00+0.00000000e+00j,  1.00000000e+00+0.00000000e+00j,\n",
       "         0.00000000e+00+0.00000000e+00j,  0.00000000e+00-2.00000000e+00j,\n",
       "         0.00000000e+00+0.00000000e+00j,  0.00000000e+00+0.00000000e+00j,\n",
       "         0.00000000e+00+0.00000000e+00j,  0.00000000e+00+0.00000000e+00j,\n",
       "         0.00000000e+00+0.00000000e+00j,  0.00000000e+00+2.00000000e+00j,\n",
       "         0.00000000e+00+2.00000000e+00j, -5.00000000e-01+2.00000000e+00j,\n",
       "         0.00000000e+00+0.00000000e+00j,  0.00000000e+00+0.00000000e+00j,\n",
       "         0.00000000e+00+0.00000000e+00j,  0.00000000e+00-2.00000000e+00j],\n",
       "       [ 0.00000000e+00+0.00000000e+00j,  0.00000000e+00+0.00000000e+00j,\n",
       "         0.00000000e+00+0.00000000e+00j,  0.00000000e+00+0.00000000e+00j,\n",
       "         0.00000000e+00-2.00000000e+00j,  0.00000000e+00+0.00000000e+00j,\n",
       "         0.00000000e+00+0.00000000e+00j,  0.00000000e+00+0.00000000e+00j,\n",
       "         0.00000000e+00-2.00000000e+00j,  0.00000000e+00+0.00000000e+00j,\n",
       "         0.00000000e+00+0.00000000e+00j,  0.00000000e+00+0.00000000e+00j,\n",
       "        -1.00000000e+00+0.00000000e+00j,  0.00000000e+00+2.00000000e+00j,\n",
       "         0.00000000e+00+2.00000000e+00j,  0.00000000e+00+0.00000000e+00j],\n",
       "       [ 0.00000000e+00+0.00000000e+00j,  0.00000000e+00+0.00000000e+00j,\n",
       "         0.00000000e+00+0.00000000e+00j,  0.00000000e+00+0.00000000e+00j,\n",
       "         0.00000000e+00+0.00000000e+00j,  0.00000000e+00-2.00000000e+00j,\n",
       "         0.00000000e+00+8.88178420e-16j,  0.00000000e+00+8.88178420e-16j,\n",
       "         1.00000000e+00+8.88178420e-16j,  0.00000000e+00-2.00000000e+00j,\n",
       "         0.00000000e+00+8.88178420e-16j,  0.00000000e+00+8.88178420e-16j,\n",
       "         0.00000000e+00+2.00000000e+00j, -5.00000000e-01-2.00000000e+00j,\n",
       "         0.00000000e+00+8.88178420e-16j,  0.00000000e+00+2.00000000e+00j],\n",
       "       [ 0.00000000e+00+0.00000000e+00j,  0.00000000e+00+0.00000000e+00j,\n",
       "         0.00000000e+00+0.00000000e+00j,  0.00000000e+00+0.00000000e+00j,\n",
       "         1.00000000e+00+0.00000000e+00j,  0.00000000e+00+0.00000000e+00j,\n",
       "         0.00000000e+00-2.00000000e+00j,  0.00000000e+00-1.77635684e-15j,\n",
       "         0.00000000e+00-1.77635684e-15j,  0.00000000e+00-1.77635684e-15j,\n",
       "         0.00000000e+00-2.00000000e+00j,  0.00000000e+00-1.77635684e-15j,\n",
       "         0.00000000e+00+2.00000000e+00j,  0.00000000e+00-1.77635684e-15j,\n",
       "        -5.00000000e-01-2.00000000e+00j,  0.00000000e+00+2.00000000e+00j],\n",
       "       [ 0.00000000e+00+0.00000000e+00j,  0.00000000e+00+0.00000000e+00j,\n",
       "         0.00000000e+00+0.00000000e+00j,  0.00000000e+00+0.00000000e+00j,\n",
       "         0.00000000e+00+0.00000000e+00j,  1.00000000e+00+0.00000000e+00j,\n",
       "         0.00000000e+00+0.00000000e+00j,  0.00000000e+00-2.00000000e+00j,\n",
       "         0.00000000e+00+0.00000000e+00j,  0.00000000e+00+0.00000000e+00j,\n",
       "         1.00000000e+00+0.00000000e+00j,  0.00000000e+00-2.00000000e+00j,\n",
       "         0.00000000e+00+0.00000000e+00j,  0.00000000e+00+2.00000000e+00j,\n",
       "         0.00000000e+00+2.00000000e+00j,  0.00000000e+00+0.00000000e+00j]])"
      ]
     },
     "execution_count": 82,
     "metadata": {},
     "output_type": "execute_result"
    }
   ],
   "source": [
    "gen_jacobian(2,4)"
   ]
  },
  {
   "cell_type": "code",
   "execution_count": 83,
   "metadata": {},
   "outputs": [
    {
     "name": "stdout",
     "output_type": "stream",
     "text": [
      "[-1.18914642e+00-2.09169893j  1.00976547e+00-1.26752151j\n",
      "  2.20234936e+00-1.04146415j  1.01160996e-03-0.12022153j\n",
      " -2.35322203e+00-0.80260691j  4.87742634e-02-0.7150992j\n",
      " -3.88719072e-01+0.4796114j  -1.20133666e+00+0.34842338j\n",
      " -3.34493885e+00-0.2981757j  -6.75040390e-01-0.53928321j\n",
      "  5.94493119e-01+1.65759319j -3.29318748e+00+1.92492008j\n",
      " -1.11654977e+00-1.54960554j  2.06815847e+00-0.62311164j\n",
      "  2.27716800e+00-0.44430288j  5.45879040e-01+1.14920494j]\n",
      "[-1.18914642e+00-2.09169893j  1.00976547e+00-1.26752151j\n",
      "  2.20234936e+00-1.04146415j  1.01160996e-03-0.12022153j\n",
      " -2.35322203e+00-0.80260691j  4.87742634e-02-0.7150992j\n",
      " -3.88719072e-01+0.4796114j  -1.20133666e+00+0.34842338j\n",
      " -3.34493885e+00-0.2981757j  -6.75040390e-01-0.53928321j\n",
      "  5.94493119e-01+1.65759319j -3.29318748e+00+1.92492008j\n",
      " -1.11654977e+00-1.54960554j  2.06815847e+00-0.62311164j\n",
      "  2.27716800e+00-0.44430288j  5.45879040e-01+1.14920494j]\n"
     ]
    }
   ],
   "source": [
    "random_input = np.random.random(4**num_latt) + 1j * np.random.random(4**num_latt)\n",
    "print(wrapped_L(random_input, 2,4))\n",
    "print(gen_jacobian(2, 4) @ random_input)"
   ]
  },
  {
   "cell_type": "code",
   "execution_count": 91,
   "metadata": {},
   "outputs": [],
   "source": [
    "g_list = np.linspace(1, 4, 7)\n",
    "rho_list = []\n",
    "expected_rho_dot = np.zeros(4**num_latt, dtype = 'complex128')\n",
    "for g in g_list:\n",
    "    weird_looking_L = gen_jacobian(coup_stren, g)\n",
    "    rho = np.linalg.solve(weird_looking_L, expected_rho_dot).reshape(2**num_latt, 2**num_latt)\n",
    "    rho_list.append(rho)"
   ]
  },
  {
   "cell_type": "code",
   "execution_count": 92,
   "metadata": {},
   "outputs": [
    {
     "data": {
      "text/plain": [
       "[array([[-0.+0.j, -0.+0.j, -0.+0.j,  0.-0.j],\n",
       "        [ 0.-0.j,  0.-0.j, -0.+0.j,  0.-0.j],\n",
       "        [ 0.-0.j, -0.+0.j,  0.-0.j,  0.-0.j],\n",
       "        [-0.+0.j, -0.+0.j, -0.+0.j,  0.-0.j]]),\n",
       " array([[ 0.-0.j, -0.+0.j, -0.+0.j,  0.-0.j],\n",
       "        [ 0.-0.j,  0.-0.j, -0.+0.j,  0.-0.j],\n",
       "        [ 0.-0.j, -0.+0.j,  0.+0.j,  0.-0.j],\n",
       "        [-0.+0.j, -0.+0.j, -0.+0.j,  0.+0.j]]),\n",
       " array([[-0.+0.j, -0.+0.j, -0.+0.j,  0.-0.j],\n",
       "        [ 0.-0.j,  0.-0.j, -0.+0.j,  0.-0.j],\n",
       "        [ 0.-0.j, -0.+0.j,  0.-0.j,  0.-0.j],\n",
       "        [-0.+0.j, -0.+0.j, -0.+0.j,  0.-0.j]]),\n",
       " array([[ 0.-0.j, -0.+0.j, -0.+0.j,  0.-0.j],\n",
       "        [ 0.-0.j,  0.-0.j,  0.-0.j,  0.-0.j],\n",
       "        [ 0.-0.j, -0.+0.j, -0.+0.j,  0.-0.j],\n",
       "        [-0.+0.j, -0.+0.j, -0.+0.j, -0.+0.j]]),\n",
       " array([[-0.+0.j, -0.+0.j, -0.+0.j,  0.-0.j],\n",
       "        [ 0.-0.j,  0.-0.j,  0.-0.j,  0.-0.j],\n",
       "        [ 0.-0.j, -0.+0.j, -0.+0.j,  0.-0.j],\n",
       "        [-0.+0.j, -0.+0.j, -0.+0.j,  0.+0.j]]),\n",
       " array([[-0.+0.j, -0.+0.j, -0.+0.j,  0.-0.j],\n",
       "        [ 0.-0.j,  0.-0.j,  0.-0.j,  0.-0.j],\n",
       "        [ 0.-0.j, -0.+0.j, -0.+0.j,  0.-0.j],\n",
       "        [-0.+0.j, -0.+0.j, -0.+0.j,  0.+0.j]]),\n",
       " array([[ 0.+0.j, -0.+0.j,  0.-0.j,  0.-0.j],\n",
       "        [ 0.-0.j,  0.-0.j,  0.-0.j,  0.-0.j],\n",
       "        [ 0.-0.j, -0.+0.j, -0.+0.j,  0.-0.j],\n",
       "        [-0.+0.j, -0.+0.j, -0.+0.j,  0.+0.j]])]"
      ]
     },
     "execution_count": 92,
     "metadata": {},
     "output_type": "execute_result"
    }
   ],
   "source": [
    "rho_list"
   ]
  },
  {
   "cell_type": "code",
   "execution_count": 93,
   "metadata": {},
   "outputs": [],
   "source": [
    "big_sigma_x = np.array([1])\n",
    "big_sigma_y = np.array([1])\n",
    "big_sigma_z = np.array([1])\n",
    "for i in range(num_latt):\n",
    "    big_sigma_x = tensorproduct(big_sigma_x, sigma_x)\n",
    "    big_sigma_y = tensorproduct(big_sigma_y, sigma_y)\n",
    "    big_sigma_z = tensorproduct(big_sigma_z, sigma_z)"
   ]
  },
  {
   "cell_type": "code",
   "execution_count": 94,
   "metadata": {},
   "outputs": [
    {
     "data": {
      "text/plain": [
       "array([[0.+0.j, 0.+0.j, 0.+0.j, 1.+0.j],\n",
       "       [0.+0.j, 0.+0.j, 1.+0.j, 0.+0.j],\n",
       "       [0.+0.j, 1.+0.j, 0.+0.j, 0.+0.j],\n",
       "       [1.+0.j, 0.+0.j, 0.+0.j, 0.+0.j]])"
      ]
     },
     "execution_count": 94,
     "metadata": {},
     "output_type": "execute_result"
    }
   ],
   "source": [
    "big_sigma_x"
   ]
  },
  {
   "cell_type": "code",
   "execution_count": 95,
   "metadata": {},
   "outputs": [],
   "source": [
    "sigma_x_expect = list(map(np.trace, rho_list @ big_sigma_x))\n",
    "sigma_y_expect = list(map(np.trace, rho_list @ big_sigma_y))\n",
    "sigma_z_expect = list(map(np.trace, rho_list @ big_sigma_z))"
   ]
  },
  {
   "cell_type": "code",
   "execution_count": 96,
   "metadata": {},
   "outputs": [
    {
     "name": "stderr",
     "output_type": "stream",
     "text": [
      "C:\\ProgramData\\Anaconda3\\lib\\site-packages\\numpy\\core\\_asarray.py:85: ComplexWarning: Casting complex values to real discards the imaginary part\n",
      "  return array(a, dtype, copy=False, order=order)\n"
     ]
    },
    {
     "data": {
      "image/png": "[encoded data removed]",
      "text/plain": [
       "<Figure size 432x288 with 1 Axes>"
      ]
     },
     "metadata": {
      "needs_background": "light"
     },
     "output_type": "display_data"
    },
    {
     "data": {
      "image/png": "[encoded data removed]",
      "text/plain": [
       "<Figure size 432x288 with 1 Axes>"
      ]
     },
     "metadata": {
      "needs_background": "light"
     },
     "output_type": "display_data"
    },
    {
     "data": {
      "image/png": "[encoded data removed]",
      "text/plain": [
       "<Figure size 432x288 with 1 Axes>"
      ]
     },
     "metadata": {
      "needs_background": "light"
     },
     "output_type": "display_data"
    }
   ],
   "source": [
    "plt.figure()\n",
    "plt.plot(g_list, sigma_x_expect)\n",
    "plt.show()\n",
    "plt.figure()\n",
    "plt.plot(g_list, sigma_y_expect)\n",
    "plt.show()\n",
    "plt.figure()\n",
    "plt.plot(g_list, sigma_z_expect)\n",
    "plt.show()"
   ]
  }
 ],
 "metadata": {
  "kernelspec": {
   "display_name": "Python 3",
   "language": "python",
   "name": "python3"
  },
  "language_info": {
   "codemirror_mode": {
    "name": "ipython",
    "version": 3
   },
   "file_extension": ".py",
   "mimetype": "text/x-python",
   "name": "python",
   "nbconvert_exporter": "python",
   "pygments_lexer": "ipython3",
   "version": "3.6.5"
  }
 },
 "nbformat": 4,
 "nbformat_minor": 2
}
